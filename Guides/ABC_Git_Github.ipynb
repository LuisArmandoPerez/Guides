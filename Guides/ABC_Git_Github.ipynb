{
 "cells": [
  {
   "cell_type": "markdown",
   "metadata": {},
   "source": [
    "# ABC of `git` and `Github` "
   ]
  },
  {
   "cell_type": "markdown",
   "metadata": {},
   "source": [
    "## First Steps"
   ]
  },
  {
   "cell_type": "markdown",
   "metadata": {},
   "source": [
    "### Creating an account\n",
    "To use `Github` the first step includes the creation of an account in the website of [Github](https://github.com/). For signing in you need to give:\n",
    "\n",
    "- **Username**: It's the name you will have in this account. It will be public so it should be something easy to remember and formal.\n",
    "- **Email**: This is the email address that will be linked to your account.\n",
    "- **Password**: Must include at least one number.\n",
    "\n",
    "After you have made your account the next step would be to start adding your work. A new repository needs to be created."
   ]
  },
  {
   "cell_type": "markdown",
   "metadata": {},
   "source": [
    "### Repositories"
   ]
  },
  {
   "cell_type": "markdown",
   "metadata": {},
   "source": [
    "To create a repository \n",
    "1. Enter your account and then click the \"+\" button on the right corner. Choose the \"*new repository*\" option.\n",
    "2. You will need to choose a repository name, a description of this repository may be added (optional). The description would be added to the README file of the repository.\n",
    "3. Choose between a public (free) or private (additional cost) repository.\n",
    "4. If you are intending to make a local copy of this repository in your computer choose the \"*Initialize this repository with a README*\".\n",
    "5. Click the \"*Create repository*\" button.\n",
    "\n",
    "Now the repository should have been added to your repositories in your Github profile. The next step would be to create a local copy of this repository in your computer. "
   ]
  },
  {
   "cell_type": "markdown",
   "metadata": {},
   "source": [
    "#### Add a local copy of the repository\n",
    "\n",
    "To add a local copy of a repository into your computer follow the next steps:\n",
    "\n",
    "1. Open a terminal window. \n",
    "2. Go to the folder where you would like to make a local copy. \n",
    "3. Initialize git by typing ```git init```.\n",
    "4. "
   ]
  },
  {
   "cell_type": "code",
   "execution_count": null,
   "metadata": {
    "collapsed": true
   },
   "outputs": [],
   "source": []
  }
 ],
 "metadata": {
  "kernelspec": {
   "display_name": "Julia 0.4.2",
   "language": "julia",
   "name": "julia-0.4"
  },
  "language_info": {
   "file_extension": ".jl",
   "mimetype": "application/julia",
   "name": "julia",
   "version": "0.4.2"
  }
 },
 "nbformat": 4,
 "nbformat_minor": 0
}
